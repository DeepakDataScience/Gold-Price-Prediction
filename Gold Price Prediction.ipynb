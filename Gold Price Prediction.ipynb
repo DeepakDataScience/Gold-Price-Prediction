{
 "cells": [
  {
   "cell_type": "markdown",
   "metadata": {},
   "source": [
    "## Importing Libraries"
   ]
  },
  {
   "cell_type": "code",
   "execution_count": 1,
   "metadata": {},
   "outputs": [
    {
     "name": "stderr",
     "output_type": "stream",
     "text": [
      "C:\\Users\\Deepak\\Anaconda3\\lib\\importlib\\_bootstrap.py:219: RuntimeWarning: numpy.ufunc size changed, may indicate binary incompatibility. Expected 192 from C header, got 216 from PyObject\n",
      "  return f(*args, **kwds)\n",
      "C:\\Users\\Deepak\\Anaconda3\\lib\\importlib\\_bootstrap.py:219: RuntimeWarning: numpy.ufunc size changed, may indicate binary incompatibility. Expected 192 from C header, got 216 from PyObject\n",
      "  return f(*args, **kwds)\n",
      "C:\\Users\\Deepak\\Anaconda3\\lib\\importlib\\_bootstrap.py:219: RuntimeWarning: numpy.ufunc size changed, may indicate binary incompatibility. Expected 192 from C header, got 216 from PyObject\n",
      "  return f(*args, **kwds)\n"
     ]
    }
   ],
   "source": [
    "import pandas as pd\n",
    "import numpy as np\n",
    "import matplotlib.pyplot as plt\n",
    "import seaborn as sns\n",
    "from sklearn.model_selection import train_test_split\n",
    "from sklearn.ensemble import RandomForestRegressor\n",
    "from sklearn import metrics"
   ]
  },
  {
   "cell_type": "markdown",
   "metadata": {},
   "source": [
    "## Data collection and processing"
   ]
  },
  {
   "cell_type": "code",
   "execution_count": 2,
   "metadata": {},
   "outputs": [],
   "source": [
    "df=pd.read_csv('gld_price_data.csv')"
   ]
  },
  {
   "cell_type": "code",
   "execution_count": 3,
   "metadata": {},
   "outputs": [
    {
     "data": {
      "text/html": [
       "<div>\n",
       "<style scoped>\n",
       "    .dataframe tbody tr th:only-of-type {\n",
       "        vertical-align: middle;\n",
       "    }\n",
       "\n",
       "    .dataframe tbody tr th {\n",
       "        vertical-align: top;\n",
       "    }\n",
       "\n",
       "    .dataframe thead th {\n",
       "        text-align: right;\n",
       "    }\n",
       "</style>\n",
       "<table border=\"1\" class=\"dataframe\">\n",
       "  <thead>\n",
       "    <tr style=\"text-align: right;\">\n",
       "      <th></th>\n",
       "      <th>Date</th>\n",
       "      <th>SPX</th>\n",
       "      <th>GLD</th>\n",
       "      <th>USO</th>\n",
       "      <th>SLV</th>\n",
       "      <th>EUR/USD</th>\n",
       "    </tr>\n",
       "  </thead>\n",
       "  <tbody>\n",
       "    <tr>\n",
       "      <td>0</td>\n",
       "      <td>1/2/2008</td>\n",
       "      <td>1447.160034</td>\n",
       "      <td>84.860001</td>\n",
       "      <td>78.470001</td>\n",
       "      <td>15.180</td>\n",
       "      <td>1.471692</td>\n",
       "    </tr>\n",
       "    <tr>\n",
       "      <td>1</td>\n",
       "      <td>1/3/2008</td>\n",
       "      <td>1447.160034</td>\n",
       "      <td>85.570000</td>\n",
       "      <td>78.370003</td>\n",
       "      <td>15.285</td>\n",
       "      <td>1.474491</td>\n",
       "    </tr>\n",
       "    <tr>\n",
       "      <td>2</td>\n",
       "      <td>1/4/2008</td>\n",
       "      <td>1411.630005</td>\n",
       "      <td>85.129997</td>\n",
       "      <td>77.309998</td>\n",
       "      <td>15.167</td>\n",
       "      <td>1.475492</td>\n",
       "    </tr>\n",
       "    <tr>\n",
       "      <td>3</td>\n",
       "      <td>1/7/2008</td>\n",
       "      <td>1416.180054</td>\n",
       "      <td>84.769997</td>\n",
       "      <td>75.500000</td>\n",
       "      <td>15.053</td>\n",
       "      <td>1.468299</td>\n",
       "    </tr>\n",
       "    <tr>\n",
       "      <td>4</td>\n",
       "      <td>1/8/2008</td>\n",
       "      <td>1390.189941</td>\n",
       "      <td>86.779999</td>\n",
       "      <td>76.059998</td>\n",
       "      <td>15.590</td>\n",
       "      <td>1.557099</td>\n",
       "    </tr>\n",
       "  </tbody>\n",
       "</table>\n",
       "</div>"
      ],
      "text/plain": [
       "       Date          SPX        GLD        USO     SLV   EUR/USD\n",
       "0  1/2/2008  1447.160034  84.860001  78.470001  15.180  1.471692\n",
       "1  1/3/2008  1447.160034  85.570000  78.370003  15.285  1.474491\n",
       "2  1/4/2008  1411.630005  85.129997  77.309998  15.167  1.475492\n",
       "3  1/7/2008  1416.180054  84.769997  75.500000  15.053  1.468299\n",
       "4  1/8/2008  1390.189941  86.779999  76.059998  15.590  1.557099"
      ]
     },
     "execution_count": 3,
     "metadata": {},
     "output_type": "execute_result"
    }
   ],
   "source": [
    "df.head() #print first five rows of the dataframe  "
   ]
  },
  {
   "cell_type": "code",
   "execution_count": 5,
   "metadata": {},
   "outputs": [
    {
     "data": {
      "text/html": [
       "<div>\n",
       "<style scoped>\n",
       "    .dataframe tbody tr th:only-of-type {\n",
       "        vertical-align: middle;\n",
       "    }\n",
       "\n",
       "    .dataframe tbody tr th {\n",
       "        vertical-align: top;\n",
       "    }\n",
       "\n",
       "    .dataframe thead th {\n",
       "        text-align: right;\n",
       "    }\n",
       "</style>\n",
       "<table border=\"1\" class=\"dataframe\">\n",
       "  <thead>\n",
       "    <tr style=\"text-align: right;\">\n",
       "      <th></th>\n",
       "      <th>Date</th>\n",
       "      <th>SPX</th>\n",
       "      <th>GLD</th>\n",
       "      <th>USO</th>\n",
       "      <th>SLV</th>\n",
       "      <th>EUR/USD</th>\n",
       "    </tr>\n",
       "  </thead>\n",
       "  <tbody>\n",
       "    <tr>\n",
       "      <td>2285</td>\n",
       "      <td>5/8/2018</td>\n",
       "      <td>2671.919922</td>\n",
       "      <td>124.589996</td>\n",
       "      <td>14.0600</td>\n",
       "      <td>15.5100</td>\n",
       "      <td>1.186789</td>\n",
       "    </tr>\n",
       "    <tr>\n",
       "      <td>2286</td>\n",
       "      <td>5/9/2018</td>\n",
       "      <td>2697.790039</td>\n",
       "      <td>124.330002</td>\n",
       "      <td>14.3700</td>\n",
       "      <td>15.5300</td>\n",
       "      <td>1.184722</td>\n",
       "    </tr>\n",
       "    <tr>\n",
       "      <td>2287</td>\n",
       "      <td>5/10/2018</td>\n",
       "      <td>2723.070068</td>\n",
       "      <td>125.180000</td>\n",
       "      <td>14.4100</td>\n",
       "      <td>15.7400</td>\n",
       "      <td>1.191753</td>\n",
       "    </tr>\n",
       "    <tr>\n",
       "      <td>2288</td>\n",
       "      <td>5/14/2018</td>\n",
       "      <td>2730.129883</td>\n",
       "      <td>124.489998</td>\n",
       "      <td>14.3800</td>\n",
       "      <td>15.5600</td>\n",
       "      <td>1.193118</td>\n",
       "    </tr>\n",
       "    <tr>\n",
       "      <td>2289</td>\n",
       "      <td>5/16/2018</td>\n",
       "      <td>2725.780029</td>\n",
       "      <td>122.543800</td>\n",
       "      <td>14.4058</td>\n",
       "      <td>15.4542</td>\n",
       "      <td>1.182033</td>\n",
       "    </tr>\n",
       "  </tbody>\n",
       "</table>\n",
       "</div>"
      ],
      "text/plain": [
       "           Date          SPX         GLD      USO      SLV   EUR/USD\n",
       "2285   5/8/2018  2671.919922  124.589996  14.0600  15.5100  1.186789\n",
       "2286   5/9/2018  2697.790039  124.330002  14.3700  15.5300  1.184722\n",
       "2287  5/10/2018  2723.070068  125.180000  14.4100  15.7400  1.191753\n",
       "2288  5/14/2018  2730.129883  124.489998  14.3800  15.5600  1.193118\n",
       "2289  5/16/2018  2725.780029  122.543800  14.4058  15.4542  1.182033"
      ]
     },
     "execution_count": 5,
     "metadata": {},
     "output_type": "execute_result"
    }
   ],
   "source": [
    "df.tail() #print last five rows of the dataframe"
   ]
  },
  {
   "cell_type": "code",
   "execution_count": 6,
   "metadata": {},
   "outputs": [],
   "source": [
    "# we are going to predict the gold price using machine learning\n",
    "# we will train our machine learning model with these stocks prices\n",
    "# i.e. EUR/USD, SLV, USD, SPX\n",
    "# by analysing these values we will try to predict the gold value\n",
    "# We won't do forecasting here"
   ]
  },
  {
   "cell_type": "code",
   "execution_count": 7,
   "metadata": {
    "scrolled": true
   },
   "outputs": [
    {
     "data": {
      "text/plain": [
       "Date       0\n",
       "SPX        0\n",
       "GLD        0\n",
       "USO        0\n",
       "SLV        0\n",
       "EUR/USD    0\n",
       "dtype: int64"
      ]
     },
     "execution_count": 7,
     "metadata": {},
     "output_type": "execute_result"
    }
   ],
   "source": [
    "df.isnull().sum() # Checking missing values\n",
    "                  # no missing values here"
   ]
  },
  {
   "cell_type": "code",
   "execution_count": 11,
   "metadata": {},
   "outputs": [
    {
     "data": {
      "text/plain": [
       "(2290, 6)"
      ]
     },
     "execution_count": 11,
     "metadata": {},
     "output_type": "execute_result"
    }
   ],
   "source": [
    "df.shape #number of rows and columns"
   ]
  },
  {
   "cell_type": "code",
   "execution_count": 13,
   "metadata": {},
   "outputs": [
    {
     "name": "stdout",
     "output_type": "stream",
     "text": [
      "<class 'pandas.core.frame.DataFrame'>\n",
      "RangeIndex: 2290 entries, 0 to 2289\n",
      "Data columns (total 6 columns):\n",
      "Date       2290 non-null object\n",
      "SPX        2290 non-null float64\n",
      "GLD        2290 non-null float64\n",
      "USO        2290 non-null float64\n",
      "SLV        2290 non-null float64\n",
      "EUR/USD    2290 non-null float64\n",
      "dtypes: float64(5), object(1)\n",
      "memory usage: 107.5+ KB\n"
     ]
    }
   ],
   "source": [
    "df.info()    #information about the data\n",
    "             #since all the datatypes are of requisite type\n",
    "              #we do  not need to do much processing there"
   ]
  },
  {
   "cell_type": "code",
   "execution_count": 21,
   "metadata": {},
   "outputs": [
    {
     "data": {
      "text/html": [
       "<div>\n",
       "<style scoped>\n",
       "    .dataframe tbody tr th:only-of-type {\n",
       "        vertical-align: middle;\n",
       "    }\n",
       "\n",
       "    .dataframe tbody tr th {\n",
       "        vertical-align: top;\n",
       "    }\n",
       "\n",
       "    .dataframe thead th {\n",
       "        text-align: right;\n",
       "    }\n",
       "</style>\n",
       "<table border=\"1\" class=\"dataframe\">\n",
       "  <thead>\n",
       "    <tr style=\"text-align: right;\">\n",
       "      <th></th>\n",
       "      <th>count</th>\n",
       "      <th>mean</th>\n",
       "      <th>std</th>\n",
       "      <th>min</th>\n",
       "      <th>25%</th>\n",
       "      <th>50%</th>\n",
       "      <th>75%</th>\n",
       "      <th>max</th>\n",
       "    </tr>\n",
       "  </thead>\n",
       "  <tbody>\n",
       "    <tr>\n",
       "      <td>SPX</td>\n",
       "      <td>2290.0</td>\n",
       "      <td>1654.315776</td>\n",
       "      <td>519.111540</td>\n",
       "      <td>676.530029</td>\n",
       "      <td>1239.874969</td>\n",
       "      <td>1551.434998</td>\n",
       "      <td>2073.010070</td>\n",
       "      <td>2872.870117</td>\n",
       "    </tr>\n",
       "    <tr>\n",
       "      <td>GLD</td>\n",
       "      <td>2290.0</td>\n",
       "      <td>122.732875</td>\n",
       "      <td>23.283346</td>\n",
       "      <td>70.000000</td>\n",
       "      <td>109.725000</td>\n",
       "      <td>120.580002</td>\n",
       "      <td>132.840004</td>\n",
       "      <td>184.589996</td>\n",
       "    </tr>\n",
       "    <tr>\n",
       "      <td>USO</td>\n",
       "      <td>2290.0</td>\n",
       "      <td>31.842221</td>\n",
       "      <td>19.523517</td>\n",
       "      <td>7.960000</td>\n",
       "      <td>14.380000</td>\n",
       "      <td>33.869999</td>\n",
       "      <td>37.827501</td>\n",
       "      <td>117.480003</td>\n",
       "    </tr>\n",
       "    <tr>\n",
       "      <td>SLV</td>\n",
       "      <td>2290.0</td>\n",
       "      <td>20.084997</td>\n",
       "      <td>7.092566</td>\n",
       "      <td>8.850000</td>\n",
       "      <td>15.570000</td>\n",
       "      <td>17.268500</td>\n",
       "      <td>22.882499</td>\n",
       "      <td>47.259998</td>\n",
       "    </tr>\n",
       "    <tr>\n",
       "      <td>EUR/USD</td>\n",
       "      <td>2290.0</td>\n",
       "      <td>1.283653</td>\n",
       "      <td>0.131547</td>\n",
       "      <td>1.039047</td>\n",
       "      <td>1.171313</td>\n",
       "      <td>1.303296</td>\n",
       "      <td>1.369971</td>\n",
       "      <td>1.598798</td>\n",
       "    </tr>\n",
       "  </tbody>\n",
       "</table>\n",
       "</div>"
      ],
      "text/plain": [
       "          count         mean         std         min          25%  \\\n",
       "SPX      2290.0  1654.315776  519.111540  676.530029  1239.874969   \n",
       "GLD      2290.0   122.732875   23.283346   70.000000   109.725000   \n",
       "USO      2290.0    31.842221   19.523517    7.960000    14.380000   \n",
       "SLV      2290.0    20.084997    7.092566    8.850000    15.570000   \n",
       "EUR/USD  2290.0     1.283653    0.131547    1.039047     1.171313   \n",
       "\n",
       "                 50%          75%          max  \n",
       "SPX      1551.434998  2073.010070  2872.870117  \n",
       "GLD       120.580002   132.840004   184.589996  \n",
       "USO        33.869999    37.827501   117.480003  \n",
       "SLV        17.268500    22.882499    47.259998  \n",
       "EUR/USD     1.303296     1.369971     1.598798  "
      ]
     },
     "execution_count": 21,
     "metadata": {},
     "output_type": "execute_result"
    }
   ],
   "source": [
    "df.describe().T  #statistical measure of the data frame"
   ]
  },
  {
   "cell_type": "code",
   "execution_count": 29,
   "metadata": {},
   "outputs": [
    {
     "name": "stdout",
     "output_type": "stream",
     "text": [
      "              SPX       GLD       USO       SLV   EUR/USD\n",
      "SPX      1.000000  0.049345 -0.591573 -0.274055 -0.672017\n",
      "GLD      0.049345  1.000000 -0.186360  0.866632 -0.024375\n",
      "USO     -0.591573 -0.186360  1.000000  0.167547  0.829317\n",
      "SLV     -0.274055  0.866632  0.167547  1.000000  0.321631\n",
      "EUR/USD -0.672017 -0.024375  0.829317  0.321631  1.000000\n"
     ]
    }
   ],
   "source": [
    "correlation=df.corr().T  #find correlation between the points\n",
    "print(correlation)"
   ]
  },
  {
   "cell_type": "code",
   "execution_count": 24,
   "metadata": {},
   "outputs": [
    {
     "data": {
      "text/plain": [
       "<matplotlib.axes._subplots.AxesSubplot at 0x18dfaaf9248>"
      ]
     },
     "execution_count": 24,
     "metadata": {},
     "output_type": "execute_result"
    },
    {
     "data": {
      "image/png": "[encoded data removed]",
      "text/plain": [
       "<Figure size 576x576 with 2 Axes>"
      ]
     },
     "metadata": {
      "needs_background": "light"
     },
     "output_type": "display_data"
    }
   ],
   "source": [
    "# constructing heatmap to understand the correlation\n",
    "\n",
    "plt.figure(figsize=(8,8))\n",
    "sns.heatmap(correlation, cbar=True, fmt='.1f', annot= True, annot_kws={'size':8},cmap='Blues')"
   ]
  },
  {
   "cell_type": "code",
   "execution_count": 30,
   "metadata": {},
   "outputs": [
    {
     "name": "stdout",
     "output_type": "stream",
     "text": [
      "SPX        0.049345\n",
      "GLD        1.000000\n",
      "USO       -0.186360\n",
      "SLV        0.866632\n",
      "EUR/USD   -0.024375\n",
      "Name: GLD, dtype: float64\n"
     ]
    }
   ],
   "source": [
    "# Correlation values of Gold\n",
    "print(correlation['GLD'])"
   ]
  },
  {
   "cell_type": "code",
   "execution_count": 33,
   "metadata": {},
   "outputs": [
    {
     "data": {
      "text/plain": [
       "<matplotlib.axes._subplots.AxesSubplot at 0x18dfad4e648>"
      ]
     },
     "execution_count": 33,
     "metadata": {},
     "output_type": "execute_result"
    },
    {
     "data": {
      "image/png": "[encoded data removed]",
      "text/plain": [
       "<Figure size 432x288 with 1 Axes>"
      ]
     },
     "metadata": {
      "needs_background": "light"
     },
     "output_type": "display_data"
    }
   ],
   "source": [
    "# Checking the distribution of the GLD Price\n",
    "\n",
    "sns.distplot(df['GLD'],color='red')\n",
    "\n",
    "#most of the price of gold lies in 120 range"
   ]
  },
  {
   "cell_type": "markdown",
   "metadata": {},
   "source": [
    "## Splitting features and Target"
   ]
  },
  {
   "cell_type": "code",
   "execution_count": 36,
   "metadata": {},
   "outputs": [],
   "source": [
    "X = df.drop(['Date','GLD'],axis=1)\n",
    "Y = df['GLD']"
   ]
  },
  {
   "cell_type": "code",
   "execution_count": 37,
   "metadata": {},
   "outputs": [
    {
     "name": "stdout",
     "output_type": "stream",
     "text": [
      "              SPX        USO      SLV   EUR/USD\n",
      "0     1447.160034  78.470001  15.1800  1.471692\n",
      "1     1447.160034  78.370003  15.2850  1.474491\n",
      "2     1411.630005  77.309998  15.1670  1.475492\n",
      "3     1416.180054  75.500000  15.0530  1.468299\n",
      "4     1390.189941  76.059998  15.5900  1.557099\n",
      "...           ...        ...      ...       ...\n",
      "2285  2671.919922  14.060000  15.5100  1.186789\n",
      "2286  2697.790039  14.370000  15.5300  1.184722\n",
      "2287  2723.070068  14.410000  15.7400  1.191753\n",
      "2288  2730.129883  14.380000  15.5600  1.193118\n",
      "2289  2725.780029  14.405800  15.4542  1.182033\n",
      "\n",
      "[2290 rows x 4 columns]\n"
     ]
    }
   ],
   "source": [
    "print(X)"
   ]
  },
  {
   "cell_type": "code",
   "execution_count": 38,
   "metadata": {},
   "outputs": [
    {
     "name": "stdout",
     "output_type": "stream",
     "text": [
      "0        84.860001\n",
      "1        85.570000\n",
      "2        85.129997\n",
      "3        84.769997\n",
      "4        86.779999\n",
      "           ...    \n",
      "2285    124.589996\n",
      "2286    124.330002\n",
      "2287    125.180000\n",
      "2288    124.489998\n",
      "2289    122.543800\n",
      "Name: GLD, Length: 2290, dtype: float64\n"
     ]
    }
   ],
   "source": [
    "print(Y)"
   ]
  },
  {
   "cell_type": "markdown",
   "metadata": {},
   "source": [
    "Splitting into training and test data"
   ]
  },
  {
   "cell_type": "code",
   "execution_count": 39,
   "metadata": {},
   "outputs": [],
   "source": [
    "X_train, X_test, Y_train, Y_test = train_test_split(X,Y,test_size=0.2, random_state=2)"
   ]
  },
  {
   "cell_type": "markdown",
   "metadata": {},
   "source": [
    "Model training : Random Forest regressor"
   ]
  },
  {
   "cell_type": "code",
   "execution_count": 40,
   "metadata": {},
   "outputs": [],
   "source": [
    "regressor=RandomForestRegressor(n_estimators=100)"
   ]
  },
  {
   "cell_type": "markdown",
   "metadata": {},
   "source": [
    "Training the model"
   ]
  },
  {
   "cell_type": "code",
   "execution_count": 41,
   "metadata": {},
   "outputs": [
    {
     "data": {
      "text/plain": [
       "RandomForestRegressor(bootstrap=True, criterion='mse', max_depth=None,\n",
       "                      max_features='auto', max_leaf_nodes=None,\n",
       "                      min_impurity_decrease=0.0, min_impurity_split=None,\n",
       "                      min_samples_leaf=1, min_samples_split=2,\n",
       "                      min_weight_fraction_leaf=0.0, n_estimators=100,\n",
       "                      n_jobs=None, oob_score=False, random_state=None,\n",
       "                      verbose=0, warm_start=False)"
      ]
     },
     "execution_count": 41,
     "metadata": {},
     "output_type": "execute_result"
    }
   ],
   "source": [
    "regressor.fit(X_train, Y_train)   #this will train the model"
   ]
  },
  {
   "cell_type": "markdown",
   "metadata": {},
   "source": [
    "Now since we have trained the model we can use it to make some predictions"
   ]
  },
  {
   "cell_type": "markdown",
   "metadata": {},
   "source": [
    "Model Evaluation"
   ]
  },
  {
   "cell_type": "markdown",
   "metadata": {},
   "source": [
    "#prediction on Test Data"
   ]
  },
  {
   "cell_type": "code",
   "execution_count": 44,
   "metadata": {},
   "outputs": [],
   "source": [
    "test_data_prediction=regressor.predict(X_test)"
   ]
  },
  {
   "cell_type": "code",
   "execution_count": 45,
   "metadata": {},
   "outputs": [
    {
     "name": "stdout",
     "output_type": "stream",
     "text": [
      "[168.62139928  82.11270001 115.90119996 127.63840081 120.61810131\n",
      " 154.90259732 150.28839871 126.15970028 117.43169876 126.15830048\n",
      " 117.03210094 172.08880099 141.37849871 167.6136994  115.17959994\n",
      " 117.43990066 139.57500244 170.04700094 159.29080288 159.84619951\n",
      " 155.22620031 125.08500045 175.68609962 156.6547028  125.09800078\n",
      "  93.84989996  77.1458002  120.39489983 119.12569918 167.4177003\n",
      "  88.31750046 124.87580004  91.10460057 117.70020049 121.1617992\n",
      " 136.73840063 115.45330148 115.5017008  147.68060004 106.95880092\n",
      " 104.14770228  87.19559778 126.40210082 117.89860027 150.60379881\n",
      " 119.69270001 108.40170017 108.13689847  93.19240052 127.20159759\n",
      "  74.7397005  113.74799944 121.35740028 111.09299905 118.83459884\n",
      " 120.72029957 159.02269998 168.51920091 146.95659649  85.3172982\n",
      "  94.27390036  86.85519836  90.62510022 118.93450092 126.41660078\n",
      " 127.51519982 170.81860068 122.24139913 117.48659903  98.57360048\n",
      " 168.48500156 142.97559821 131.99080253 121.05390216 121.65559905\n",
      " 119.66300084 114.63230171 118.0821007  106.99440078 127.92920032\n",
      " 113.98959976 107.12280017 117.04950049 119.54179861  88.94130063\n",
      "  88.2918987  146.34880243 127.35670011 113.47890035 110.77959884\n",
      " 108.08049899  77.72649893 169.46010173 114.20999896 121.63489914\n",
      " 127.69970147 155.01519757  91.7027995  136.53000114 159.18520353\n",
      " 125.17550059 125.28030076 130.66070181 114.8793015  119.89030018\n",
      "  92.0713999  110.39749876 167.54289957 156.8678995  114.38349977\n",
      " 106.62310104  79.63629959 113.27630022 125.78710072 107.26549987\n",
      " 119.28400087 155.67690325 160.11169931 119.9847001  134.74660288\n",
      " 101.61529971 117.68399813 119.1745003  112.88450093 102.79569904\n",
      " 160.14499806  99.51960073 147.25699957 125.21710068 169.55069917\n",
      " 125.71919881 127.36389705 127.4570027  113.92109911 112.85060058\n",
      " 123.43809894 102.2312991   88.99739989 124.54549967 101.34229916\n",
      " 106.80119882 113.58130062 117.23550103  99.11499924 121.6266004\n",
      " 163.73409782  87.27819835 106.76859966 117.14440105 127.72380145\n",
      " 124.36600037  80.79039916 120.30590069 158.34919801  87.8159996\n",
      " 110.29669946 118.98169928 172.45119929 102.96019871 105.34020035\n",
      " 122.61130002 158.9863977   87.62789866  93.42770052 112.7109006\n",
      " 177.0294997  113.92309978 119.23090048  94.66780094 125.63900042\n",
      " 166.10220059 114.91520056 116.6894015   88.34919879 149.28420151\n",
      " 120.50649922  89.66919996 112.68250003 117.23370027 118.85420133\n",
      "  88.24479942  94.25699996 116.95939993 118.56150198 120.30050024\n",
      " 126.80319781 121.92569965 149.64199979 165.07900098 118.51259967\n",
      " 120.30890168 150.65720067 118.30319911 173.21339942 105.44839931\n",
      " 104.89810117 149.4184018  113.62850099 124.77170103 148.31390016\n",
      " 119.73460101 115.20220014 112.79089996 113.62300195 139.27980139\n",
      " 117.71349779 102.92310023 115.79280119 103.39870162  98.88670031\n",
      " 117.38730076  90.62620026  91.62350059 153.74069863 102.64909962\n",
      " 154.68980125 114.51360152 139.0010013   90.2073983  115.45429937\n",
      " 114.07539962 122.85790037 121.78250006 165.38210197  92.84579954\n",
      " 136.04950134 121.38299948 120.74740092 104.64000034 142.64760278\n",
      " 121.64609939 116.6236004  113.49690088 127.0364973  122.3643994\n",
      " 125.68789931 121.31090027  86.95199884 132.36740203 145.19580182\n",
      "  92.80999967 158.88799907 159.37180325 125.94239948 165.16839906\n",
      " 108.72629932 110.10950036 103.75509866  94.24600055 127.38550253\n",
      " 106.91190065 162.13309936 121.67470026 132.06490018 130.71360158\n",
      " 160.96840008  90.20129843 175.32600165 127.69880039 126.89919826\n",
      "  86.33889916 124.56799939 150.57919744  89.69470024 106.81059967\n",
      " 109.01359996  84.28999907 135.86080025 155.06640303 138.83900382\n",
      "  74.56100027 151.65230163 126.10710002 126.81289986 127.55189872\n",
      " 108.5920998  156.32900076 114.62900127 116.95530141 125.20919969\n",
      " 154.14270136 121.2677998  156.24189929  92.89200059 125.44410141\n",
      " 125.65260028  87.89850032  92.14719918 126.13769929 128.26240346\n",
      " 113.02489986 117.6477969  120.78300079 127.01189767 120.28080107\n",
      " 136.78320098  93.88159935 119.77420013 113.26470114  94.3213992\n",
      " 108.99009978  86.95529924 109.23039921  89.68969954  92.37020006\n",
      " 131.50400285 162.29080037  89.34470011 119.65690087 133.37130169\n",
      " 123.94160063 128.27720162 102.0690988   89.29789873 131.92540061\n",
      " 120.45500056 108.65950002 167.40239999 115.13900034  86.61199982\n",
      " 118.80190053  90.97229963 161.48209953 116.6314004  121.37049997\n",
      " 160.24769771 120.02659899 112.75099926 108.5150988  126.8228007\n",
      "  76.34020046 103.02279989 127.3418026  121.72179913  92.49559999\n",
      " 132.6795008  118.22020108 116.02529965 154.40080297 159.47380081\n",
      " 110.19379953 153.96319755 119.22710069 160.79840062 118.48160025\n",
      " 158.01909908 115.02239923 116.66660038 149.63409899 114.86470057\n",
      " 125.91539875 164.7040987  117.71670013 125.26489972 153.41490329\n",
      " 153.41060268 132.11510102 114.84640021 121.1705019  125.00060053\n",
      "  89.70830094 123.10480012 154.93960158 111.79200026 106.70049963\n",
      " 161.5908013  118.32940011 165.70890011 133.89430161 114.96819988\n",
      " 152.97829904 168.76510008 115.68050023 114.13080121 158.92059894\n",
      "  85.28849894 127.14140089 127.95770111 128.9181999  124.20240051\n",
      " 123.77990055  90.63610053 153.13590007  97.14979975 138.02140003\n",
      "  89.20939935 107.16730028 114.91720036 112.67920076 124.02999933\n",
      "  91.35239904 125.37150128 162.18099851 120.08469867 165.25300122\n",
      " 126.8638978  112.36750009 127.5331995   94.75279889  91.09539978\n",
      " 102.67639883 120.81770039  82.68779964 126.22149996 160.23800394\n",
      " 117.32140108 118.32160001 120.06869987 122.36909958 120.20330158\n",
      " 121.56849975 117.99830088 106.90270022 148.21529987 126.38879835\n",
      " 115.60330056  73.77930011 127.82340101 153.05550054 122.36889987\n",
      " 125.60890008  88.75869988 103.53439864 124.35910016 120.34470014\n",
      "  73.21680071 151.7323997  121.16410063 104.50280039  86.61139756\n",
      " 114.98979898 172.2931981  119.83550048 160.49119769 113.18709974\n",
      " 121.24350013 118.57620098  96.07649999 118.81960021 125.9003002\n",
      " 118.39629973  96.09600092 153.75620179 122.00450008 147.29060008\n",
      " 159.17940256 114.21500041 122.51399959 148.69219895 126.96740066\n",
      " 165.73680091 135.77150055 120.00249962 167.64819918 108.39289934\n",
      " 121.77009827 138.07690124 107.33439903]\n"
     ]
    }
   ],
   "source": [
    "print(test_data_prediction)"
   ]
  },
  {
   "cell_type": "code",
   "execution_count": 46,
   "metadata": {},
   "outputs": [],
   "source": [
    "# Comparing predicted values with the actual values"
   ]
  },
  {
   "cell_type": "code",
   "execution_count": 47,
   "metadata": {},
   "outputs": [],
   "source": [
    "# R squared error will be used for that"
   ]
  },
  {
   "cell_type": "code",
   "execution_count": 50,
   "metadata": {},
   "outputs": [
    {
     "name": "stdout",
     "output_type": "stream",
     "text": [
      "R_squared error: 0.9892910882882715\n"
     ]
    }
   ],
   "source": [
    "error_score=metrics.r2_score(Y_test, test_data_prediction)\n",
    "print('R_squared error:', error_score)"
   ]
  },
  {
   "cell_type": "markdown",
   "metadata": {},
   "source": [
    "## Comparing actual values and predicted values in A pLOT\n"
   ]
  },
  {
   "cell_type": "code",
   "execution_count": 51,
   "metadata": {},
   "outputs": [],
   "source": [
    "Y_test=list(Y_test)"
   ]
  },
  {
   "cell_type": "code",
   "execution_count": 59,
   "metadata": {},
   "outputs": [
    {
     "data": {
      "image/png": "[encoded data removed]",
      "text/plain": [
       "<Figure size 432x288 with 1 Axes>"
      ]
     },
     "metadata": {
      "needs_background": "light"
     },
     "output_type": "display_data"
    }
   ],
   "source": [
    "plt.plot(Y_test, color = 'blue', label = 'Actual Value')\n",
    "plt.plot(test_data_prediction, color='green', label = 'Predicted Value')\n",
    "plt.title('Actual Price vs Predicted Price')\n",
    "plt.xlabel('Number of Values')\n",
    "plt.ylabel('GLD Price')\n",
    "plt.legend()\n",
    "plt.show()"
   ]
  },
  {
   "cell_type": "code",
   "execution_count": null,
   "metadata": {},
   "outputs": [],
   "source": []
  },
  {
   "cell_type": "code",
   "execution_count": null,
   "metadata": {},
   "outputs": [],
   "source": []
  },
  {
   "cell_type": "code",
   "execution_count": null,
   "metadata": {},
   "outputs": [],
   "source": []
  },
  {
   "cell_type": "code",
   "execution_count": null,
   "metadata": {},
   "outputs": [],
   "source": []
  },
  {
   "cell_type": "code",
   "execution_count": null,
   "metadata": {},
   "outputs": [],
   "source": []
  },
  {
   "cell_type": "code",
   "execution_count": null,
   "metadata": {},
   "outputs": [],
   "source": []
  },
  {
   "cell_type": "code",
   "execution_count": null,
   "metadata": {},
   "outputs": [],
   "source": []
  },
  {
   "cell_type": "code",
   "execution_count": null,
   "metadata": {},
   "outputs": [],
   "source": []
  },
  {
   "cell_type": "code",
   "execution_count": null,
   "metadata": {},
   "outputs": [],
   "source": []
  },
  {
   "cell_type": "code",
   "execution_count": null,
   "metadata": {},
   "outputs": [],
   "source": []
  },
  {
   "cell_type": "code",
   "execution_count": null,
   "metadata": {},
   "outputs": [],
   "source": []
  },
  {
   "cell_type": "code",
   "execution_count": null,
   "metadata": {},
   "outputs": [],
   "source": []
  },
  {
   "cell_type": "code",
   "execution_count": null,
   "metadata": {},
   "outputs": [],
   "source": []
  },
  {
   "cell_type": "code",
   "execution_count": null,
   "metadata": {},
   "outputs": [],
   "source": []
  }
 ],
 "metadata": {
  "kernelspec": {
   "display_name": "Python 3",
   "language": "python",
   "name": "python3"
  },
  "language_info": {
   "codemirror_mode": {
    "name": "ipython",
    "version": 3
   },
   "file_extension": ".py",
   "mimetype": "text/x-python",
   "name": "python",
   "nbconvert_exporter": "python",
   "pygments_lexer": "ipython3",
   "version": "3.7.4"
  }
 },
 "nbformat": 4,
 "nbformat_minor": 2
}
